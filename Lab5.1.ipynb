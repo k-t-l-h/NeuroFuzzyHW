{
 "cells": [
  {
   "cell_type": "code",
   "execution_count": 1,
   "metadata": {},
   "outputs": [],
   "source": [
    "#Нейро-нечеткие системы\n",
    "#Лабораторная работа №5\n",
    "\n",
    "#Задача: классификация текстов"
   ]
  },
  {
   "cell_type": "code",
   "execution_count": 2,
   "metadata": {},
   "outputs": [],
   "source": [
    "#мешок слов\n",
    "\n",
    "%matplotlib inline\n",
    "import os\n",
    "\n",
    "from ipywidgets import Select, SelectMultiple, interactive,  Layout, Box, Label\n",
    "\n",
    "from sklearn import feature_extraction, model_selection, naive_bayes, pipeline, manifold, preprocessing, feature_selection\n",
    "import sklearn.metrics as metrics\n",
    "\n",
    "import pandas as pd\n",
    "import numpy as np\n",
    "## for plotting\n",
    "import matplotlib.pyplot as plt\n",
    "#import seaborn as sns\n",
    "## for processing\n",
    "import re\n",
    "from sklearn.model_selection import train_test_split\n",
    "import sklearn.feature_selection \n",
    "import nltk\n",
    "#перед использованием раскомментировать\n",
    "#nltk.download(\"stopwords\")\n",
    "#nltk.download('wordnet')"
   ]
  },
  {
   "cell_type": "code",
   "execution_count": 3,
   "metadata": {},
   "outputs": [],
   "source": [
    "import tensorflow as tf\n",
    "from tensorflow import keras\n",
    "from tensorflow.keras import layers,Sequential, Model\n",
    "from keras.layers import Dense, Input, Activation, Dropout\n",
    "from sklearn.model_selection import train_test_split\n",
    "from tensorflow.keras.preprocessing.text import Tokenizer\n",
    "from tensorflow.keras.preprocessing.sequence import pad_sequences\n",
    "from tensorflow.keras.callbacks import EarlyStopping,ModelCheckpoint\n",
    "from tensorflow.keras import models"
   ]
  },
  {
   "cell_type": "code",
   "execution_count": 4,
   "metadata": {},
   "outputs": [],
   "source": [
    "##!pip install gensim==3.4.0\n",
    "##!pip install smart_open==1.9.0\n",
    "#import gensim"
   ]
  },
  {
   "cell_type": "code",
   "execution_count": 5,
   "metadata": {},
   "outputs": [
    {
     "data": {
      "application/vnd.jupyter.widget-view+json": {
       "model_id": "ba111ca164d841fa96a577c957270038",
       "version_major": 2,
       "version_minor": 0
      },
      "text/plain": [
       "Select(description='Select file:', options=('raw_text.csv', 'stars.csv', 'test.csv', 'train.csv'), value='raw_…"
      ]
     },
     "metadata": {},
     "output_type": "display_data"
    }
   ],
   "source": [
    "#поиск всех файлов в папке\n",
    "files = []\n",
    "for file in os.listdir(\"./datasets\"):\n",
    "    if file.endswith('.csv'):\n",
    "        files.append(file) \n",
    "        \n",
    "if len(files) != 0:\n",
    "\n",
    "    fileselect = Select(\n",
    "        options=files,\n",
    "        value=files[0],\n",
    "        description='Select file:',\n",
    "        disabled=False\n",
    "    )\n",
    "fileselect"
   ]
  },
  {
   "cell_type": "code",
   "execution_count": 6,
   "metadata": {},
   "outputs": [
    {
     "data": {
      "text/html": [
       "<div>\n",
       "<style scoped>\n",
       "    .dataframe tbody tr th:only-of-type {\n",
       "        vertical-align: middle;\n",
       "    }\n",
       "\n",
       "    .dataframe tbody tr th {\n",
       "        vertical-align: top;\n",
       "    }\n",
       "\n",
       "    .dataframe thead th {\n",
       "        text-align: right;\n",
       "    }\n",
       "</style>\n",
       "<table border=\"1\" class=\"dataframe\">\n",
       "  <thead>\n",
       "    <tr style=\"text-align: right;\">\n",
       "      <th></th>\n",
       "      <th>Class Index</th>\n",
       "      <th>Title</th>\n",
       "      <th>Description</th>\n",
       "    </tr>\n",
       "  </thead>\n",
       "  <tbody>\n",
       "    <tr>\n",
       "      <th>0</th>\n",
       "      <td>3</td>\n",
       "      <td>Fears for T N pension after talks</td>\n",
       "      <td>Unions representing workers at Turner   Newall...</td>\n",
       "    </tr>\n",
       "    <tr>\n",
       "      <th>1</th>\n",
       "      <td>4</td>\n",
       "      <td>The Race is On: Second Private Team Sets Launc...</td>\n",
       "      <td>SPACE.com - TORONTO, Canada -- A second\\team o...</td>\n",
       "    </tr>\n",
       "    <tr>\n",
       "      <th>2</th>\n",
       "      <td>4</td>\n",
       "      <td>Ky. Company Wins Grant to Study Peptides (AP)</td>\n",
       "      <td>AP - A company founded by a chemistry research...</td>\n",
       "    </tr>\n",
       "    <tr>\n",
       "      <th>3</th>\n",
       "      <td>4</td>\n",
       "      <td>Prediction Unit Helps Forecast Wildfires (AP)</td>\n",
       "      <td>AP - It's barely dawn when Mike Fitzpatrick st...</td>\n",
       "    </tr>\n",
       "    <tr>\n",
       "      <th>4</th>\n",
       "      <td>4</td>\n",
       "      <td>Calif. Aims to Limit Farm-Related Smog (AP)</td>\n",
       "      <td>AP - Southern California's smog-fighting agenc...</td>\n",
       "    </tr>\n",
       "    <tr>\n",
       "      <th>5</th>\n",
       "      <td>4</td>\n",
       "      <td>Open Letter Against British Copyright Indoctri...</td>\n",
       "      <td>The British Department for Education and Skill...</td>\n",
       "    </tr>\n",
       "    <tr>\n",
       "      <th>6</th>\n",
       "      <td>4</td>\n",
       "      <td>Loosing the War on Terrorism</td>\n",
       "      <td>\\\\\"Sven Jaschan, self-confessed author of the ...</td>\n",
       "    </tr>\n",
       "    <tr>\n",
       "      <th>7</th>\n",
       "      <td>4</td>\n",
       "      <td>FOAFKey: FOAF, PGP, Key Distribution, and Bloo...</td>\n",
       "      <td>\\\\FOAF/LOAF  and bloom filters have a lot of i...</td>\n",
       "    </tr>\n",
       "    <tr>\n",
       "      <th>8</th>\n",
       "      <td>4</td>\n",
       "      <td>E-mail scam targets police chief</td>\n",
       "      <td>Wiltshire Police warns about \"phishing\" after ...</td>\n",
       "    </tr>\n",
       "    <tr>\n",
       "      <th>9</th>\n",
       "      <td>4</td>\n",
       "      <td>Card fraud unit nets 36,000 cards</td>\n",
       "      <td>In its first two years, the UK's dedicated car...</td>\n",
       "    </tr>\n",
       "  </tbody>\n",
       "</table>\n",
       "</div>"
      ],
      "text/plain": [
       "   Class Index                                              Title  \\\n",
       "0            3                  Fears for T N pension after talks   \n",
       "1            4  The Race is On: Second Private Team Sets Launc...   \n",
       "2            4      Ky. Company Wins Grant to Study Peptides (AP)   \n",
       "3            4      Prediction Unit Helps Forecast Wildfires (AP)   \n",
       "4            4        Calif. Aims to Limit Farm-Related Smog (AP)   \n",
       "5            4  Open Letter Against British Copyright Indoctri...   \n",
       "6            4                       Loosing the War on Terrorism   \n",
       "7            4  FOAFKey: FOAF, PGP, Key Distribution, and Bloo...   \n",
       "8            4                   E-mail scam targets police chief   \n",
       "9            4                  Card fraud unit nets 36,000 cards   \n",
       "\n",
       "                                         Description  \n",
       "0  Unions representing workers at Turner   Newall...  \n",
       "1  SPACE.com - TORONTO, Canada -- A second\\team o...  \n",
       "2  AP - A company founded by a chemistry research...  \n",
       "3  AP - It's barely dawn when Mike Fitzpatrick st...  \n",
       "4  AP - Southern California's smog-fighting agenc...  \n",
       "5  The British Department for Education and Skill...  \n",
       "6  \\\\\"Sven Jaschan, self-confessed author of the ...  \n",
       "7  \\\\FOAF/LOAF  and bloom filters have a lot of i...  \n",
       "8  Wiltshire Police warns about \"phishing\" after ...  \n",
       "9  In its first two years, the UK's dedicated car...  "
      ]
     },
     "execution_count": 6,
     "metadata": {},
     "output_type": "execute_result"
    }
   ],
   "source": [
    "#оригинальный датасет\n",
    "df = pd.read_csv(\"./datasets/\" + fileselect.value, delimiter=\",\")\n",
    "df.head(10)"
   ]
  },
  {
   "cell_type": "code",
   "execution_count": 7,
   "metadata": {},
   "outputs": [
    {
     "data": {
      "application/vnd.jupyter.widget-view+json": {
       "model_id": "a24405077b524da084fd0f6ed850f8fc",
       "version_major": 2,
       "version_minor": 0
      },
      "text/plain": [
       "Select(description='Select file:', options=('Class Index', 'Title', 'Description'), value='Class Index')"
      ]
     },
     "metadata": {},
     "output_type": "display_data"
    }
   ],
   "source": [
    "#выбрать столбец, который будет отвечать за тип\n",
    "yselect = Select(\n",
    "        options=list(df.columns),\n",
    "        value=list(df.columns)[0],\n",
    "        description='Select file:',\n",
    "        disabled=False\n",
    "    )\n",
    "yselect"
   ]
  },
  {
   "cell_type": "code",
   "execution_count": 8,
   "metadata": {},
   "outputs": [
    {
     "data": {
      "application/vnd.jupyter.widget-view+json": {
       "model_id": "4190a84cea2342b8939347479632bb27",
       "version_major": 2,
       "version_minor": 0
      },
      "text/plain": [
       "Select(description='Select file:', options=('Class Index', 'Title', 'Description'), value='Class Index')"
      ]
     },
     "metadata": {},
     "output_type": "display_data"
    }
   ],
   "source": [
    "#выбрать столбец, который будет отвечать за текст\n",
    "xselect = Select(\n",
    "        options=list(df.columns),\n",
    "        value=list(df.columns)[0],\n",
    "        description='Select file:',\n",
    "        disabled=False\n",
    "    )\n",
    "xselect"
   ]
  },
  {
   "cell_type": "code",
   "execution_count": 9,
   "metadata": {},
   "outputs": [
    {
     "data": {
      "image/png": "[encoded data removed]",
      "text/plain": [
       "<Figure size 432x288 with 1 Axes>"
      ]
     },
     "metadata": {
      "needs_background": "light"
     },
     "output_type": "display_data"
    }
   ],
   "source": [
    "#просто смотрим какие у нас есть лейблы\n",
    "fig, ax = plt.subplots()\n",
    "fig.suptitle(\"this is what we have\", fontsize=12)\n",
    "df[yselect.value].reset_index().groupby(yselect.value).count().sort_values(by= \n",
    "       \"index\").plot(kind=\"barh\", legend=False, \n",
    "        ax=ax).grid(axis='x')\n",
    "plt.show()"
   ]
  },
  {
   "cell_type": "code",
   "execution_count": 10,
   "metadata": {},
   "outputs": [],
   "source": [
    "x = df[xselect.value].copy()\n",
    "y = df[yselect.value].copy()\n",
    "x_train, x_test, y_train, y_test = train_test_split(x, y, test_size=0.3)"
   ]
  },
  {
   "cell_type": "code",
   "execution_count": 11,
   "metadata": {},
   "outputs": [],
   "source": [
    "from keras.preprocessing import text, sequence\n",
    "#здесь тот же Bag of Words\n",
    "max_words = 1000\n",
    "tokenize = text.Tokenizer(num_words=max_words, char_level=False)"
   ]
  },
  {
   "cell_type": "code",
   "execution_count": 12,
   "metadata": {},
   "outputs": [],
   "source": [
    "tokenize.fit_on_texts(x_train) \n",
    "x_train = tokenize.texts_to_matrix(x_train)\n",
    "x_test = tokenize.texts_to_matrix(x_test)"
   ]
  },
  {
   "cell_type": "code",
   "execution_count": 13,
   "metadata": {},
   "outputs": [
    {
     "data": {
      "text/plain": [
       "array([[0., 1., 0., ..., 0., 0., 0.],\n",
       "       [0., 1., 1., ..., 0., 0., 0.],\n",
       "       [0., 1., 1., ..., 0., 0., 0.],\n",
       "       ...,\n",
       "       [0., 1., 1., ..., 0., 0., 0.],\n",
       "       [0., 1., 1., ..., 0., 0., 0.],\n",
       "       [0., 1., 0., ..., 0., 0., 0.]])"
      ]
     },
     "execution_count": 13,
     "metadata": {},
     "output_type": "execute_result"
    }
   ],
   "source": [
    "x_train"
   ]
  },
  {
   "cell_type": "code",
   "execution_count": 14,
   "metadata": {},
   "outputs": [],
   "source": [
    "from sklearn.preprocessing import LabelBinarizer, LabelEncoder\n",
    "encoder = LabelEncoder()\n",
    "encoder.fit(y_train)\n",
    "y_train = encoder.transform(y_train)\n",
    "y_test = encoder.transform(y_test)"
   ]
  },
  {
   "cell_type": "code",
   "execution_count": 17,
   "metadata": {},
   "outputs": [
    {
     "data": {
      "text/plain": [
       "array([0, 1, 1, ..., 1, 3, 3], dtype=int64)"
      ]
     },
     "execution_count": 17,
     "metadata": {},
     "output_type": "execute_result"
    }
   ],
   "source": [
    "y_train"
   ]
  },
  {
   "cell_type": "code",
   "execution_count": 18,
   "metadata": {},
   "outputs": [],
   "source": [
    "from keras import utils\n",
    "num_classes = np.max(y_train) + 1\n",
    "y_train = utils.to_categorical(y_train, num_classes)\n",
    "y_test = utils.to_categorical(y_test, num_classes)"
   ]
  },
  {
   "cell_type": "code",
   "execution_count": 26,
   "metadata": {},
   "outputs": [
    {
     "name": "stdout",
     "output_type": "stream",
     "text": [
      "Model: \"sequential_2\"\n",
      "_________________________________________________________________\n",
      "Layer (type)                 Output Shape              Param #   \n",
      "=================================================================\n",
      "dense_4 (Dense)              (None, 512)               512512    \n",
      "_________________________________________________________________\n",
      "activation_4 (Activation)    (None, 512)               0         \n",
      "_________________________________________________________________\n",
      "dense_5 (Dense)              (None, 4)                 2052      \n",
      "_________________________________________________________________\n",
      "activation_5 (Activation)    (None, 4)                 0         \n",
      "=================================================================\n",
      "Total params: 514,564\n",
      "Trainable params: 514,564\n",
      "Non-trainable params: 0\n",
      "_________________________________________________________________\n"
     ]
    }
   ],
   "source": [
    "batch_size = 32\n",
    "epochs = 20\n",
    "\n",
    "model = Sequential()\n",
    "model.add(Dense(512, input_shape=(max_words,)))\n",
    "model.add(Activation('relu'))\n",
    "model.add(Dense(num_classes))\n",
    "model.add(Activation('softmax'))\n",
    "\n",
    "model.compile(loss='categorical_crossentropy', optimizer='adam', metrics=['accuracy'])\n",
    "\n",
    "model.summary()"
   ]
  },
  {
   "cell_type": "code",
   "execution_count": 27,
   "metadata": {},
   "outputs": [
    {
     "name": "stdout",
     "output_type": "stream",
     "text": [
      "Epoch 1/20\n",
      "150/150 [==============================] - 1s 8ms/step - loss: 0.7375 - accuracy: 0.7485 - val_loss: 0.4680 - val_accuracy: 0.8346\n",
      "Epoch 2/20\n",
      "150/150 [==============================] - 1s 6ms/step - loss: 0.3606 - accuracy: 0.8755 - val_loss: 0.4702 - val_accuracy: 0.8327\n",
      "Epoch 3/20\n",
      "150/150 [==============================] - 2s 11ms/step - loss: 0.2376 - accuracy: 0.9229 - val_loss: 0.5112 - val_accuracy: 0.8383\n",
      "Epoch 4/20\n",
      "150/150 [==============================] - 2s 11ms/step - loss: 0.1514 - accuracy: 0.9591 - val_loss: 0.5755 - val_accuracy: 0.8233\n",
      "Epoch 5/20\n",
      "150/150 [==============================] - 2s 11ms/step - loss: 0.0921 - accuracy: 0.9827 - val_loss: 0.6317 - val_accuracy: 0.8177\n",
      "Epoch 6/20\n",
      "150/150 [==============================] - 2s 12ms/step - loss: 0.0540 - accuracy: 0.9935 - val_loss: 0.6842 - val_accuracy: 0.8214\n",
      "Epoch 7/20\n",
      "150/150 [==============================] - 1s 8ms/step - loss: 0.0321 - accuracy: 0.9985 - val_loss: 0.7341 - val_accuracy: 0.8233\n",
      "Epoch 8/20\n",
      "150/150 [==============================] - 2s 11ms/step - loss: 0.0207 - accuracy: 0.9992 - val_loss: 0.7918 - val_accuracy: 0.8195\n",
      "Epoch 9/20\n",
      "150/150 [==============================] - 2s 11ms/step - loss: 0.0142 - accuracy: 0.9996 - val_loss: 0.8318 - val_accuracy: 0.8139\n",
      "Epoch 10/20\n",
      "150/150 [==============================] - 2s 11ms/step - loss: 0.0103 - accuracy: 0.9998 - val_loss: 0.8623 - val_accuracy: 0.8158\n",
      "Epoch 11/20\n",
      "150/150 [==============================] - 2s 12ms/step - loss: 0.0080 - accuracy: 0.9998 - val_loss: 0.8920 - val_accuracy: 0.8102\n",
      "Epoch 12/20\n",
      "150/150 [==============================] - 2s 12ms/step - loss: 0.0064 - accuracy: 0.9998 - val_loss: 0.9244 - val_accuracy: 0.8158\n",
      "Epoch 13/20\n",
      "150/150 [==============================] - 2s 12ms/step - loss: 0.0051 - accuracy: 1.0000 - val_loss: 0.9514 - val_accuracy: 0.8102\n",
      "Epoch 14/20\n",
      "150/150 [==============================] - 2s 11ms/step - loss: 0.0042 - accuracy: 1.0000 - val_loss: 0.9788 - val_accuracy: 0.8120\n",
      "Epoch 15/20\n",
      "150/150 [==============================] - 2s 11ms/step - loss: 0.0035 - accuracy: 1.0000 - val_loss: 1.0068 - val_accuracy: 0.8177\n",
      "Epoch 16/20\n",
      "150/150 [==============================] - 2s 11ms/step - loss: 0.0030 - accuracy: 1.0000 - val_loss: 1.0266 - val_accuracy: 0.8195\n",
      "Epoch 17/20\n",
      "150/150 [==============================] - 2s 11ms/step - loss: 0.0026 - accuracy: 1.0000 - val_loss: 1.0506 - val_accuracy: 0.8158\n",
      "Epoch 18/20\n",
      "150/150 [==============================] - 2s 11ms/step - loss: 0.0022 - accuracy: 1.0000 - val_loss: 1.0706 - val_accuracy: 0.8083\n",
      "Epoch 19/20\n",
      "150/150 [==============================] - 2s 11ms/step - loss: 0.0019 - accuracy: 1.0000 - val_loss: 1.0935 - val_accuracy: 0.8083\n",
      "Epoch 20/20\n",
      "150/150 [==============================] - 2s 12ms/step - loss: 0.0016 - accuracy: 1.0000 - val_loss: 1.1097 - val_accuracy: 0.8083\n"
     ]
    }
   ],
   "source": [
    "history = model.fit(x_train, y_train,\n",
    "                    batch_size=batch_size,\n",
    "                    epochs=epochs, validation_split=0.1)"
   ]
  },
  {
   "cell_type": "code",
   "execution_count": 23,
   "metadata": {},
   "outputs": [
    {
     "name": "stdout",
     "output_type": "stream",
     "text": [
      "72/72 [==============================] - 0s 5ms/step - loss: 1.2531 - accuracy: 0.7855\n",
      "Test accuracy: 0.7855263352394104\n"
     ]
    }
   ],
   "source": [
    "score = model.evaluate(x_test, y_test)\n",
    "print('Test accuracy:', score[1])"
   ]
  },
  {
   "cell_type": "code",
   "execution_count": null,
   "metadata": {},
   "outputs": [],
   "source": []
  }
 ],
 "metadata": {
  "kernelspec": {
   "display_name": "Python 3",
   "language": "python",
   "name": "python3"
  },
  "language_info": {
   "codemirror_mode": {
    "name": "ipython",
    "version": 3
   },
   "file_extension": ".py",
   "mimetype": "text/x-python",
   "name": "python",
   "nbconvert_exporter": "python",
   "pygments_lexer": "ipython3",
   "version": "3.8.8"
  }
 },
 "nbformat": 4,
 "nbformat_minor": 4
}
