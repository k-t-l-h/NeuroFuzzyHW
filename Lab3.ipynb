{
 "cells": [
  {
   "cell_type": "code",
   "execution_count": 1,
   "metadata": {},
   "outputs": [],
   "source": [
    "#Нейро-нечеткие системы\n",
    "#Лабораторная работа №3\n",
    "\n",
    "#Задача: классификация данных"
   ]
  },
  {
   "cell_type": "code",
   "execution_count": 49,
   "metadata": {},
   "outputs": [],
   "source": [
    "%matplotlib inline\n",
    "import os\n",
    "import numpy as np\n",
    "import pandas as pd\n",
    "import matplotlib.pyplot as plt\n",
    "import sklearn\n",
    "\n",
    "\n",
    "from ipywidgets import Select, SelectMultiple, interactive,  Layout, Box, Label\n",
    "from sklearn.preprocessing import StandardScaler\n",
    "from sklearn.model_selection import train_test_split\n",
    "from sklearn.ensemble import RandomForestClassifier\n",
    "from sklearn.ensemble import GradientBoostingClassifier\n",
    "from sklearn.metrics import *"
   ]
  },
  {
   "cell_type": "code",
   "execution_count": 4,
   "metadata": {},
   "outputs": [
    {
     "data": {
      "application/vnd.jupyter.widget-view+json": {
       "model_id": "cda03bc35aee488f82fd8c52822695cb",
       "version_major": 2,
       "version_minor": 0
      },
      "text/plain": [
       "Select(description='Select file:', options=('6 class csv.csv', 'Anatase UV.csv', 'avocado.csv', 'cancer_b.csv'…"
      ]
     },
     "metadata": {},
     "output_type": "display_data"
    }
   ],
   "source": [
    "#поиск всех файлов в папке\n",
    "files = []\n",
    "for file in os.listdir(\".\"):\n",
    "    if file.endswith('.csv'):\n",
    "        files.append(file) \n",
    "        \n",
    "if len(files) != 0:\n",
    "\n",
    "    fileselect = Select(\n",
    "        options=files,\n",
    "        value=files[0],\n",
    "        description='Select file:',\n",
    "        disabled=False\n",
    "    )\n",
    "fileselect"
   ]
  },
  {
   "cell_type": "code",
   "execution_count": 5,
   "metadata": {},
   "outputs": [
    {
     "data": {
      "text/html": [
       "<div>\n",
       "<style scoped>\n",
       "    .dataframe tbody tr th:only-of-type {\n",
       "        vertical-align: middle;\n",
       "    }\n",
       "\n",
       "    .dataframe tbody tr th {\n",
       "        vertical-align: top;\n",
       "    }\n",
       "\n",
       "    .dataframe thead th {\n",
       "        text-align: right;\n",
       "    }\n",
       "</style>\n",
       "<table border=\"1\" class=\"dataframe\">\n",
       "  <thead>\n",
       "    <tr style=\"text-align: right;\">\n",
       "      <th></th>\n",
       "      <th>Vmag</th>\n",
       "      <th>Plx</th>\n",
       "      <th>e_Plx</th>\n",
       "      <th>B-V</th>\n",
       "      <th>Amag</th>\n",
       "      <th>TargetClass</th>\n",
       "    </tr>\n",
       "  </thead>\n",
       "  <tbody>\n",
       "    <tr>\n",
       "      <th>0</th>\n",
       "      <td>5.99</td>\n",
       "      <td>13.73</td>\n",
       "      <td>0.58</td>\n",
       "      <td>1.318</td>\n",
       "      <td>16.678352</td>\n",
       "      <td>0</td>\n",
       "    </tr>\n",
       "    <tr>\n",
       "      <th>1</th>\n",
       "      <td>8.70</td>\n",
       "      <td>2.31</td>\n",
       "      <td>1.29</td>\n",
       "      <td>-0.045</td>\n",
       "      <td>15.518060</td>\n",
       "      <td>0</td>\n",
       "    </tr>\n",
       "    <tr>\n",
       "      <th>2</th>\n",
       "      <td>5.77</td>\n",
       "      <td>5.50</td>\n",
       "      <td>1.03</td>\n",
       "      <td>0.855</td>\n",
       "      <td>14.471813</td>\n",
       "      <td>0</td>\n",
       "    </tr>\n",
       "    <tr>\n",
       "      <th>3</th>\n",
       "      <td>6.72</td>\n",
       "      <td>5.26</td>\n",
       "      <td>0.74</td>\n",
       "      <td>-0.015</td>\n",
       "      <td>15.324928</td>\n",
       "      <td>1</td>\n",
       "    </tr>\n",
       "    <tr>\n",
       "      <th>4</th>\n",
       "      <td>8.76</td>\n",
       "      <td>13.44</td>\n",
       "      <td>1.16</td>\n",
       "      <td>0.584</td>\n",
       "      <td>19.401997</td>\n",
       "      <td>1</td>\n",
       "    </tr>\n",
       "    <tr>\n",
       "      <th>5</th>\n",
       "      <td>4.90</td>\n",
       "      <td>8.37</td>\n",
       "      <td>0.76</td>\n",
       "      <td>-0.091</td>\n",
       "      <td>14.513628</td>\n",
       "      <td>0</td>\n",
       "    </tr>\n",
       "    <tr>\n",
       "      <th>6</th>\n",
       "      <td>8.60</td>\n",
       "      <td>5.09</td>\n",
       "      <td>1.37</td>\n",
       "      <td>0.448</td>\n",
       "      <td>17.133589</td>\n",
       "      <td>1</td>\n",
       "    </tr>\n",
       "    <tr>\n",
       "      <th>7</th>\n",
       "      <td>6.24</td>\n",
       "      <td>8.08</td>\n",
       "      <td>1.15</td>\n",
       "      <td>0.680</td>\n",
       "      <td>15.777057</td>\n",
       "      <td>0</td>\n",
       "    </tr>\n",
       "    <tr>\n",
       "      <th>8</th>\n",
       "      <td>7.31</td>\n",
       "      <td>1.86</td>\n",
       "      <td>0.87</td>\n",
       "      <td>1.164</td>\n",
       "      <td>13.657564</td>\n",
       "      <td>0</td>\n",
       "    </tr>\n",
       "    <tr>\n",
       "      <th>9</th>\n",
       "      <td>9.52</td>\n",
       "      <td>1.28</td>\n",
       "      <td>1.33</td>\n",
       "      <td>1.500</td>\n",
       "      <td>15.056050</td>\n",
       "      <td>0</td>\n",
       "    </tr>\n",
       "  </tbody>\n",
       "</table>\n",
       "</div>"
      ],
      "text/plain": [
       "   Vmag    Plx  e_Plx    B-V       Amag  TargetClass\n",
       "0  5.99  13.73   0.58  1.318  16.678352            0\n",
       "1  8.70   2.31   1.29 -0.045  15.518060            0\n",
       "2  5.77   5.50   1.03  0.855  14.471813            0\n",
       "3  6.72   5.26   0.74 -0.015  15.324928            1\n",
       "4  8.76  13.44   1.16  0.584  19.401997            1\n",
       "5  4.90   8.37   0.76 -0.091  14.513628            0\n",
       "6  8.60   5.09   1.37  0.448  17.133589            1\n",
       "7  6.24   8.08   1.15  0.680  15.777057            0\n",
       "8  7.31   1.86   0.87  1.164  13.657564            0\n",
       "9  9.52   1.28   1.33  1.500  15.056050            0"
      ]
     },
     "execution_count": 5,
     "metadata": {},
     "output_type": "execute_result"
    }
   ],
   "source": [
    "#оригинальный датасет\n",
    "df = pd.read_csv(fileselect.value, delimiter=\",\")\n",
    "df = df.select_dtypes(include=['number'])\n",
    "df.head(10)"
   ]
  },
  {
   "cell_type": "code",
   "execution_count": 6,
   "metadata": {},
   "outputs": [
    {
     "data": {
      "application/vnd.jupyter.widget-view+json": {
       "model_id": "c232893a13c142bf9a067f7ef961d071",
       "version_major": 2,
       "version_minor": 0
      },
      "text/plain": [
       "Select(description='Select file:', options=('Vmag', 'Plx', 'e_Plx', 'B-V', 'Amag', 'TargetClass'), value='Vmag…"
      ]
     },
     "metadata": {},
     "output_type": "display_data"
    }
   ],
   "source": [
    "#выбрать столбец, который будет отвечать за тип\n",
    "yselect = Select(\n",
    "        options=list(df.columns),\n",
    "        value=list(df.columns)[0],\n",
    "        description='Select file:',\n",
    "        disabled=False\n",
    "    )\n",
    "yselect"
   ]
  },
  {
   "cell_type": "code",
   "execution_count": 7,
   "metadata": {},
   "outputs": [
    {
     "data": {
      "text/html": [
       "<div>\n",
       "<style scoped>\n",
       "    .dataframe tbody tr th:only-of-type {\n",
       "        vertical-align: middle;\n",
       "    }\n",
       "\n",
       "    .dataframe tbody tr th {\n",
       "        vertical-align: top;\n",
       "    }\n",
       "\n",
       "    .dataframe thead th {\n",
       "        text-align: right;\n",
       "    }\n",
       "</style>\n",
       "<table border=\"1\" class=\"dataframe\">\n",
       "  <thead>\n",
       "    <tr style=\"text-align: right;\">\n",
       "      <th></th>\n",
       "      <th>Vmag</th>\n",
       "      <th>Plx</th>\n",
       "      <th>e_Plx</th>\n",
       "      <th>B-V</th>\n",
       "      <th>Amag</th>\n",
       "    </tr>\n",
       "  </thead>\n",
       "  <tbody>\n",
       "    <tr>\n",
       "      <th>0</th>\n",
       "      <td>5.99</td>\n",
       "      <td>13.73</td>\n",
       "      <td>0.58</td>\n",
       "      <td>1.318</td>\n",
       "      <td>16.678352</td>\n",
       "    </tr>\n",
       "    <tr>\n",
       "      <th>1</th>\n",
       "      <td>8.70</td>\n",
       "      <td>2.31</td>\n",
       "      <td>1.29</td>\n",
       "      <td>-0.045</td>\n",
       "      <td>15.518060</td>\n",
       "    </tr>\n",
       "    <tr>\n",
       "      <th>2</th>\n",
       "      <td>5.77</td>\n",
       "      <td>5.50</td>\n",
       "      <td>1.03</td>\n",
       "      <td>0.855</td>\n",
       "      <td>14.471813</td>\n",
       "    </tr>\n",
       "    <tr>\n",
       "      <th>3</th>\n",
       "      <td>6.72</td>\n",
       "      <td>5.26</td>\n",
       "      <td>0.74</td>\n",
       "      <td>-0.015</td>\n",
       "      <td>15.324928</td>\n",
       "    </tr>\n",
       "    <tr>\n",
       "      <th>4</th>\n",
       "      <td>8.76</td>\n",
       "      <td>13.44</td>\n",
       "      <td>1.16</td>\n",
       "      <td>0.584</td>\n",
       "      <td>19.401997</td>\n",
       "    </tr>\n",
       "    <tr>\n",
       "      <th>5</th>\n",
       "      <td>4.90</td>\n",
       "      <td>8.37</td>\n",
       "      <td>0.76</td>\n",
       "      <td>-0.091</td>\n",
       "      <td>14.513628</td>\n",
       "    </tr>\n",
       "    <tr>\n",
       "      <th>6</th>\n",
       "      <td>8.60</td>\n",
       "      <td>5.09</td>\n",
       "      <td>1.37</td>\n",
       "      <td>0.448</td>\n",
       "      <td>17.133589</td>\n",
       "    </tr>\n",
       "    <tr>\n",
       "      <th>7</th>\n",
       "      <td>6.24</td>\n",
       "      <td>8.08</td>\n",
       "      <td>1.15</td>\n",
       "      <td>0.680</td>\n",
       "      <td>15.777057</td>\n",
       "    </tr>\n",
       "    <tr>\n",
       "      <th>8</th>\n",
       "      <td>7.31</td>\n",
       "      <td>1.86</td>\n",
       "      <td>0.87</td>\n",
       "      <td>1.164</td>\n",
       "      <td>13.657564</td>\n",
       "    </tr>\n",
       "    <tr>\n",
       "      <th>9</th>\n",
       "      <td>9.52</td>\n",
       "      <td>1.28</td>\n",
       "      <td>1.33</td>\n",
       "      <td>1.500</td>\n",
       "      <td>15.056050</td>\n",
       "    </tr>\n",
       "  </tbody>\n",
       "</table>\n",
       "</div>"
      ],
      "text/plain": [
       "   Vmag    Plx  e_Plx    B-V       Amag\n",
       "0  5.99  13.73   0.58  1.318  16.678352\n",
       "1  8.70   2.31   1.29 -0.045  15.518060\n",
       "2  5.77   5.50   1.03  0.855  14.471813\n",
       "3  6.72   5.26   0.74 -0.015  15.324928\n",
       "4  8.76  13.44   1.16  0.584  19.401997\n",
       "5  4.90   8.37   0.76 -0.091  14.513628\n",
       "6  8.60   5.09   1.37  0.448  17.133589\n",
       "7  6.24   8.08   1.15  0.680  15.777057\n",
       "8  7.31   1.86   0.87  1.164  13.657564\n",
       "9  9.52   1.28   1.33  1.500  15.056050"
      ]
     },
     "execution_count": 7,
     "metadata": {},
     "output_type": "execute_result"
    }
   ],
   "source": [
    "x = df.drop([yselect.value], axis = 1).copy()\n",
    "x.head(10)"
   ]
  },
  {
   "cell_type": "code",
   "execution_count": 8,
   "metadata": {},
   "outputs": [
    {
     "data": {
      "text/plain": [
       "0    0\n",
       "1    0\n",
       "2    0\n",
       "3    1\n",
       "4    1\n",
       "5    0\n",
       "6    1\n",
       "7    0\n",
       "8    0\n",
       "9    0\n",
       "Name: TargetClass, dtype: int64"
      ]
     },
     "execution_count": 8,
     "metadata": {},
     "output_type": "execute_result"
    }
   ],
   "source": [
    "y = df[yselect.value].copy()\n",
    "y.head(10)"
   ]
  },
  {
   "cell_type": "code",
   "execution_count": 10,
   "metadata": {},
   "outputs": [],
   "source": [
    "#разбиваем на две части, для обучения и для тестирования\n",
    "x_train, x_test, y_train, y_test = train_test_split(x, y, stratify=y)"
   ]
  },
  {
   "cell_type": "code",
   "execution_count": 55,
   "metadata": {
    "scrolled": true
   },
   "outputs": [],
   "source": [
    "def RandomForestN(depth):\n",
    "    pltx = []\n",
    "    plty = []\n",
    "\n",
    "    for depth in range(1, 40):\n",
    "        model = RandomForestClassifier (max_depth = depth).fit(x_train, y_train)\n",
    "        y_get = model.predict(x_test)\n",
    "        plty.append(sklearn.metrics.accuracy_score(y_test, y_get))\n",
    "        pltx.append(depth)\n",
    "\n",
    "    plt.plot(pltx, plty)\n",
    "    plt.grid()\n",
    "    plt.show()\n",
    "\n",
    "    m_depth = pltx[plty.index(max(plty))]\n",
    "    pl = plot_confusion_matrix(model, x_test, y_test)  \n",
    "    mp = plot_roc_curve(model, x_test, y_test)  \n",
    "    n_classes = len(pl.display_labels)\n",
    "    \n",
    "    print(f1_score(y_test, y_get, average='weighted'))\n",
    "    print(recall_score(y_test, y_get, average='weighted'))\n",
    "    print(precision_score(y_test, y_get, average='weighted'))\n",
    "    "
   ]
  },
  {
   "cell_type": "code",
   "execution_count": 56,
   "metadata": {
    "scrolled": true
   },
   "outputs": [
    {
     "data": {
      "application/vnd.jupyter.widget-view+json": {
       "model_id": "059c9015024748eab57b2a738b8f4e32",
       "version_major": 2,
       "version_minor": 0
      },
      "text/plain": [
       "interactive(children=(IntSlider(value=3, description='depth', max=5, min=1), Output()), _dom_classes=('widget-…"
      ]
     },
     "metadata": {},
     "output_type": "display_data"
    }
   ],
   "source": [
    "interactive_plot = interactive(RandomForestN,depth=(1, 5))\n",
    "display(interactive_plot)"
   ]
  },
  {
   "cell_type": "code",
   "execution_count": 53,
   "metadata": {},
   "outputs": [],
   "source": [
    "def GradienN(depth): \n",
    "    pltx = []\n",
    "    plty = []\n",
    "\n",
    "    for d in range(1, depth):\n",
    "        model = sklearn.ensemble.GradientBoostingClassifier(max_depth = d)\n",
    "        y_get = model.fit(x_train, y_train).predict(x_test)\n",
    "        plty.append(sklearn.metrics.accuracy_score(y_test, y_get))\n",
    "        pltx.append(depth)\n",
    "\n",
    "    plt.plot(pltx, plty)\n",
    "    plt.grid()\n",
    "    plt.show()\n",
    "\n",
    "    m_depth = pltx[plty.index(max(plty))]\n",
    "    pl = plot_confusion_matrix(model, x_test, y_test)  \n",
    "    mp = plot_roc_curve(model, x_test, y_test)  \n",
    "    n_classes = len(pl.display_labels)\n",
    "    \n",
    "    print(f1_score(y_test, y_get, average='weighted'))\n",
    "    print(recall_score(y_test, y_get, average='weighted'))\n",
    "    print(precision_score(y_test, y_get, average='weighted'))"
   ]
  },
  {
   "cell_type": "code",
   "execution_count": 54,
   "metadata": {},
   "outputs": [
    {
     "data": {
      "application/vnd.jupyter.widget-view+json": {
       "model_id": "c2151d80fe3044d9ad63f3e066dfc5c5",
       "version_major": 2,
       "version_minor": 0
      },
      "text/plain": [
       "interactive(children=(IntSlider(value=21, description='depth', max=40, min=2), Output()), _dom_classes=('widge…"
      ]
     },
     "metadata": {},
     "output_type": "display_data"
    }
   ],
   "source": [
    "interactive_plot = interactive(GradienN,depth=(2, 40))\n",
    "display(interactive_plot)"
   ]
  },
  {
   "cell_type": "code",
   "execution_count": null,
   "metadata": {},
   "outputs": [],
   "source": []
  },
  {
   "cell_type": "code",
   "execution_count": null,
   "metadata": {},
   "outputs": [],
   "source": []
  }
 ],
 "metadata": {
  "kernelspec": {
   "display_name": "Python 3",
   "language": "python",
   "name": "python3"
  },
  "language_info": {
   "codemirror_mode": {
    "name": "ipython",
    "version": 3
   },
   "file_extension": ".py",
   "mimetype": "text/x-python",
   "name": "python",
   "nbconvert_exporter": "python",
   "pygments_lexer": "ipython3",
   "version": "3.8.5"
  }
 },
 "nbformat": 4,
 "nbformat_minor": 4
}
